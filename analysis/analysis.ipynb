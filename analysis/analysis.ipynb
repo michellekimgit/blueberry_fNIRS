{
 "cells": [
  {
   "cell_type": "code",
   "execution_count": 2,
   "metadata": {},
   "outputs": [
    {
     "data": {
      "text/html": [
       "<style>.container { width:100% !important; } .CodeMirror pre {font-size: 9pt;}</style>"
      ],
      "text/plain": [
       "<IPython.core.display.HTML object>"
      ]
     },
     "metadata": {},
     "output_type": "display_data"
    }
   ],
   "source": [
    "import pandas as pd\n",
    "import numpy as np\n",
    "import matplotlib.pyplot as plt\n",
    "from scipy.signal import butter, lfilter, freqz, filtfilt\n",
    "import math \n",
    "import pickle\n",
    "from pprint import pp\n",
    "from datetime import datetime\n",
    "\n",
    "from scipy.stats import linregress, kurtosis, skew\n",
    "from sklearn.model_selection import cross_val_score\n",
    "from sklearn.svm import SVC\n",
    "from sklearn.model_selection import train_test_split\n",
    "from sklearn.metrics import classification_report, confusion_matrix\n",
    "from sklearn.preprocessing import StandardScaler\n",
    "\n",
    "%matplotlib inline\n",
    "from IPython.display import display, HTML\n",
    "display(HTML(\"<style>.container { width:100% !important; } .CodeMirror pre {font-size: 9pt;}</style>\"))"
   ]
  },
  {
   "cell_type": "code",
   "execution_count": 4,
   "metadata": {},
   "outputs": [],
   "source": [
    "devices = ['L', 'R', 'F'] # left, right, front\n",
    "wavelengths = ['740', '850', '940'] # nm\n",
    "optodes = ['10', '27'] # mm separation from emmitter"
   ]
  },
  {
   "cell_type": "code",
   "execution_count": 5,
   "metadata": {},
   "outputs": [],
   "source": [
    "pd.options.mode.chained_assignment = None\n",
    "  \n",
    "def filter(data, lowcut, highcut):\n",
    "  fs = 25 # 25 Hz  (40ms intervals)\n",
    "  order = 6\n",
    "\n",
    "  nyq = 0.5 * fs\n",
    "  low = lowcut / nyq\n",
    "  high = highcut / nyq\n",
    "  b, a = butter(order, [low, high], btype='band') \n",
    "  y = filtfilt(b, a, data)\n",
    "  return y\n",
    "\n",
    "def filter_df(df, lowcut, highcut):\n",
    "  for dev in devices: # L, R, or F\n",
    "    for opt in optodes: # 10 or 27 mm\n",
    "      for wl in wavelengths: # 740, 850, or 940 nm \n",
    "        df[f'{wl}nm{opt}mm_{dev}_filt'] = filter(df[f'{wl}nm{opt}mm_{dev}'], lowcut, highcut) \n"
   ]
  },
  {
   "cell_type": "code",
   "execution_count": 7,
   "metadata": {},
   "outputs": [],
   "source": [
    "def merge_dfs(subject):\n",
    "  dfs = []\n",
    "  for dev in devices:\n",
    "    dev_df = pd.read_csv(f'./data/{subject}/blueberry/0{dev}.csv')\n",
    "    dev_df = dev_df[dev_df.timestamp != 'timestamp']   # remove headers (inserted when device reconnects?)\n",
    "    dev_df = dev_df.apply(pd.to_numeric)   # objects -> float64 & int64\n",
    "\n",
    "    dev_df['timestamp'] = dev_df.timestamp.round(3)\n",
    "    dev_df['datetime'] = dev_df.timestamp.apply(datetime.fromtimestamp)\n",
    "    dev_df.set_index('datetime', inplace=True)\n",
    "\n",
    "    dev_df = dev_df[~dev_df.index.duplicated()]\n",
    "    dev_df = dev_df.add_suffix(f'_{dev}')\n",
    "    dfs.append(dev_df)\n",
    "\n",
    "  df = pd.concat(dfs, axis=1)\n",
    "  df.interpolate(method='index', axis=0, inplace=True)\n",
    "  df.reset_index(inplace=True)\n",
    "  df.dropna(inplace=True)\n",
    "\n",
    "  df['timestamp'] = df.datetime.apply(datetime.timestamp)\n",
    "  df.drop(df[df.index%3 != 0].index, inplace=True)\n",
    "  df.reset_index(drop=True, inplace=True)\n",
    "\n",
    "  return df"
   ]
  },
  {
   "cell_type": "code",
   "execution_count": null,
   "metadata": {},
   "outputs": [],
   "source": [
    "def segment_df(df, det, data_dict):\n",
    "    # pp(opt)\n",
    "    # pp(df.columns)\n",
    "    stimuli = ['visual', 'auditory', 'mental']\n",
    "    for stim in stimuli:\n",
    "      # create df for each period in parts 1-3 (regular timing) and insert into dict\n",
    "      data_dict[f'{stim}_regular_math'] = []\n",
    "      data_dict[f'{stim}_regular_rest'] = []\n",
    "      for offset in range(0, det['regular_part_time'], 2*det['period_time']):\n",
    "        math_start = det[f'{stim}_regular_start'] + offset - 5\n",
    "        math_end = det[f'{stim}_regular_start'] + offset + det['period_time'] + 5\n",
    "        math_df = df[ (df['timestamp'] > math_start) & (df['timestamp'] < math_end) ]\n",
    "        data_dict[f'{stim}_regular_math'].append(math_df)\n",
    "        \n",
    "        rest_start = det[f'{stim}_regular_start'] + offset + det['period_time'] - 5\n",
    "        rest_end = det[f'{stim}_regular_start'] + offset + 2*det['period_time'] + 5\n",
    "        rest_df = df[ (df['timestamp'] > rest_start) & (df['timestamp'] < rest_end) ]\n",
    "        data_dict[f'{stim}_regular_rest'].append(rest_df)\n",
    "\n",
    "      # create df for each period in parts 4-6 (random timing) and insert into dict\n",
    "      data_dict[f'{stim}_random_math'] = []\n",
    "      data_dict[f'{stim}_random_rest'] = []\n",
    "      for math_offset, rest_offset in zip(det[f'{stim}_random_math_starts'], det[f'{stim}_random_rest_starts']):\n",
    "        math_start = det[f'{stim}_random_start'] + math_offset - 5\n",
    "        math_end = det[f'{stim}_random_start'] + math_offset + det['period_time'] + 5\n",
    "        math_df = df[ (df['timestamp'] > math_start) & (df['timestamp'] < math_end) ]\n",
    "        data_dict[f'{stim}_random_math'].append(math_df)\n",
    "\n",
    "        rest_start = det[f'{stim}_random_start'] + rest_offset - 5\n",
    "        rest_end = det[f'{stim}_random_start'] + rest_offset + det['period_time'] + 5\n",
    "        rest_df = df[ (df['timestamp'] > rest_start) & (df['timestamp'] < rest_end) ]\n",
    "        data_dict[f'{stim}_random_rest'].append(rest_df)\n",
    "\n",
    "       \n",
    "    # pp(data_dict)\n",
    "\n"
   ]
  },
  {
   "cell_type": "code",
   "execution_count": null,
   "metadata": {},
   "outputs": [],
   "source": [
    "def calc_dpf(age, wl): \n",
    "    # equation from [DOI: 10.1117/1.JBO.18.10.105004]\n",
    "    dpf = 223.3 + (0.05624 * age**0.8493) - (5.723 * 10**-7 * int(wl)**3) + (0.001245 * int(wl)**2) - (0.9025*int(wl))\n",
    "    return dpf"
   ]
  },
  {
   "cell_type": "code",
   "execution_count": null,
   "metadata": {},
   "outputs": [],
   "source": [
    "# calculate concentration of oxygenated (HbO) and deoxygenated (HbR) hemoglobin\n",
    "def calculate_hb(df, age):\n",
    "    # TODO\n",
    "    # either do all at once like below or sequentially by calculating relative change at each timepoint like swift code?\n",
    "\n",
    "    # separtion between emitter and dectectors in mm\n",
    "    l1 = 10.3 \n",
    "    l2 = 27.0 \n",
    "\n",
    "    # extinction coefficients (https://omlc.org/spectra/hemoglobin/summary.html)\n",
    "    e_hbo_740 = 0.446\n",
    "    e_hbr_740 = 1.11588\n",
    "\n",
    "    e_hbo_850 = 1.058\n",
    "    e_hbr_850 = 0.69132\n",
    "\n",
    "    e_hbo_940 = 1.214\n",
    "    e_hbr_940 = 0.69344\n",
    "\n",
    "    E = np.array([[e_hbo_740, e_hbr_740],\n",
    "                  [e_hbo_850, e_hbr_850],\n",
    "                  [e_hbo_940, e_hbr_940]])\n",
    "\n",
    "\n",
    "    for dev in devices:\n",
    "        for opt in optodes:\n",
    "            B = []\n",
    "            dODs = []\n",
    "            dpfs  = []\n",
    "            for wl in wavelengths:\n",
    "                I = df[f'{wl}nm{opt}mm_{dev}'].values / df[f'{wl}nm{opt}mm_{dev}'].mean() # normalized light intensity \n",
    "                dODs.append( -np.log10(I) ) # change in optical density  LN?\n",
    "                dpfs.append( calc_dpf(int(wl), age) )\n",
    "\n",
    "            print(dODs)\n",
    "            print(dpfs)\n",
    "\n",
    "            #     B.append(dOD/dpf)\n",
    "            # B = np.array(B)\n",
    "            # print(B)\n",
    "\n",
    "            dC = 1/int(opt) * (E * dpfs) * np.dot(np.linalg.inv(A), B) # change in concentrations\n",
    "            # df[f'hbo{opt}mm_{dev}'] = dC[0]\n",
    "            # df[f'hbr{opt}mm_{dev}'] = dC[1]"
   ]
  },
  {
   "cell_type": "code",
   "execution_count": null,
   "metadata": {},
   "outputs": [],
   "source": [
    "def main():\n",
    "  data_dict = {}\n",
    "  subjects = ['khiem']#,'zoey','daniel', 'david', 'nader']\n",
    "  for subject in subjects:\n",
    "    with open(f'./data/{subject}/info.json', 'r') as file:\n",
    "      info = json.load(file)\n",
    "\n",
    "    df = create_df(subject)\n",
    "    display(df)\n",
    "\n",
    "    auditory_random_df = df[ (df.timestamp > info['auditory_random_start'] - 8000) & (df.timestamp < info['auditory_random_start']) ]\n",
    "    \n",
    "    filter_df(df, 0.01, 0.5) # not sure about these values \n",
    "    estimate_hb(df, 21)\n",
    "\n",
    "    print(df.columns)\n",
    "    # plot_hb(df)\n",
    "\n",
    "main()"
   ]
  },
  {
   "cell_type": "code",
   "execution_count": null,
   "metadata": {},
   "outputs": [],
   "source": [
    "with open(''"
   ]
  }
 ],
 "metadata": {
  "kernelspec": {
   "display_name": "snakes",
   "language": "python",
   "name": "python3"
  },
  "language_info": {
   "codemirror_mode": {
    "name": "ipython",
    "version": 3
   },
   "file_extension": ".py",
   "mimetype": "text/x-python",
   "name": "python",
   "nbconvert_exporter": "python",
   "pygments_lexer": "ipython3",
   "version": "3.10.11"
  },
  "orig_nbformat": 4
 },
 "nbformat": 4,
 "nbformat_minor": 2
}
